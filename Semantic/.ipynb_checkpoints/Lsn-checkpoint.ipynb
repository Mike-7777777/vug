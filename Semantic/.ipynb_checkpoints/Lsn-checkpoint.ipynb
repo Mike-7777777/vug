{
 "cells": [
  {
   "cell_type": "code",
   "execution_count": 1,
   "metadata": {},
   "outputs": [],
   "source": [
    "import numpy as np\n",
    "import pandas as pd\n",
    "import math\n",
    "import matplotlib.pyplot as plt \n",
    "import seaborn as sns\n",
    "import re\n",
    "import missingno as msno\n",
    "from bokeh.core.properties import value\n",
    "from bokeh.io import show,output_notebook\n",
    "from bokeh.plotting import figure\n",
    "from bokeh.models import (\n",
    "    ColumnDataSource,\n",
    "    HoverTool,\n",
    "    LogColorMapper\n",
    ")\n",
    "from bokeh.palettes import Viridis6 as palette\n",
    "from bokeh.layouts import row\n",
    "import nltk\n",
    "from os import path\n",
    "from PIL import Image\n",
    "import numpy as np\n",
    "import matplotlib.pyplot as plt\n",
    "\n",
    "from wordcloud import WordCloud, STOPWORDS, ImageColorGenerator\n",
    "from nltk.sentiment import SentimentAnalyzer \n",
    "\n",
    "pd.set_option('display.max_colwidth', None)\n",
    "# pd.set_option('display.max_colwidth', -1) # @Qumeng: caused futerwarning\n",
    "pd.set_option('display.max_rows', None)  \n",
    "%matplotlib inline"
   ]
  },
  {
   "cell_type": "code",
   "execution_count": 2,
   "metadata": {
    "tags": []
   },
   "outputs": [],
   "source": [
    "script = pd.read_csv(\"script.csv\",encoding='utf-8')"
   ]
  },
  {
   "cell_type": "code",
   "execution_count": 3,
   "metadata": {},
   "outputs": [
    {
     "data": {
      "text/html": [
       "<div>\n",
       "<style scoped>\n",
       "    .dataframe tbody tr th:only-of-type {\n",
       "        vertical-align: middle;\n",
       "    }\n",
       "\n",
       "    .dataframe tbody tr th {\n",
       "        vertical-align: top;\n",
       "    }\n",
       "\n",
       "    .dataframe thead th {\n",
       "        text-align: right;\n",
       "    }\n",
       "</style>\n",
       "<table border=\"1\" class=\"dataframe\">\n",
       "  <thead>\n",
       "    <tr style=\"text-align: right;\">\n",
       "      <th></th>\n",
       "      <th>Unnamed: 0</th>\n",
       "      <th>char</th>\n",
       "      <th>dialog</th>\n",
       "      <th>movie</th>\n",
       "    </tr>\n",
       "  </thead>\n",
       "  <tbody>\n",
       "    <tr>\n",
       "      <th>0</th>\n",
       "      <td>0</td>\n",
       "      <td>DEAGOL</td>\n",
       "      <td>Oh Smeagol Ive got one! , Ive got a fish Smeagol, Smeagol!</td>\n",
       "      <td>The Return of the King</td>\n",
       "    </tr>\n",
       "    <tr>\n",
       "      <th>1</th>\n",
       "      <td>1</td>\n",
       "      <td>SMEAGOL</td>\n",
       "      <td>Pull it in! Go on, go on, go on, pull it in!</td>\n",
       "      <td>The Return of the King</td>\n",
       "    </tr>\n",
       "    <tr>\n",
       "      <th>2</th>\n",
       "      <td>2</td>\n",
       "      <td>DEAGOL</td>\n",
       "      <td>Arrghh!</td>\n",
       "      <td>The Return of the King</td>\n",
       "    </tr>\n",
       "    <tr>\n",
       "      <th>3</th>\n",
       "      <td>3</td>\n",
       "      <td>SMEAGOL</td>\n",
       "      <td>Deagol!</td>\n",
       "      <td>The Return of the King</td>\n",
       "    </tr>\n",
       "    <tr>\n",
       "      <th>4</th>\n",
       "      <td>4</td>\n",
       "      <td>SMEAGOL</td>\n",
       "      <td>Deagol!</td>\n",
       "      <td>The Return of the King</td>\n",
       "    </tr>\n",
       "  </tbody>\n",
       "</table>\n",
       "</div>"
      ],
      "text/plain": [
       "   Unnamed: 0     char  \\\n",
       "0           0   DEAGOL   \n",
       "1           1  SMEAGOL   \n",
       "2           2   DEAGOL   \n",
       "3           3  SMEAGOL   \n",
       "4           4  SMEAGOL   \n",
       "\n",
       "                                                           dialog  \\\n",
       "0  Oh Smeagol Ive got one! , Ive got a fish Smeagol, Smeagol!       \n",
       "1                   Pull it in! Go on, go on, go on, pull it in!    \n",
       "2                                                        Arrghh!    \n",
       "3                                                        Deagol!    \n",
       "4                                                        Deagol!    \n",
       "\n",
       "                     movie  \n",
       "0  The Return of the King   \n",
       "1  The Return of the King   \n",
       "2  The Return of the King   \n",
       "3  The Return of the King   \n",
       "4  The Return of the King   "
      ]
     },
     "execution_count": 3,
     "metadata": {},
     "output_type": "execute_result"
    }
   ],
   "source": [
    "script.head()"
   ]
  },
  {
   "cell_type": "code",
   "execution_count": 4,
   "metadata": {},
   "outputs": [],
   "source": [
    "# sort by count, and draw bar chart shows the sentences spoken by different characters in total.\n",
    "# script1 = script[script[\"count\"]>=22]\n",
    "# order = script1[\"char\"].unique()\n",
    "# char = script1[\"char\"]\n",
    "# a = char.value_counts()\n",
    "# a = a.sort_values(ascending = False)[0:50]\n",
    "# plt.figure(figsize=(20,10))\n",
    "# b = a.plot(kind = \"bar\",color = \"grey\")"
   ]
  },
  {
   "cell_type": "code",
   "execution_count": 5,
   "metadata": {
    "tags": []
   },
   "outputs": [],
   "source": [
    "# #gourpby moives and characters\n",
    "# grouped = script1.groupby(['char',\"movie\"]).count()\n",
    "# grouped.columns = [\"_\".join(x) for x in grouped.columns.ravel()]\n",
    "# grouped = grouped.reset_index()\n",
    "# grouped = grouped.iloc[:,:3]\n",
    "# grouped.columns = [\"char\",\"movie\",\"count\"]\n",
    "# grouped.head()\n",
    "# hue_order = np.array([\"The Fellowship of the Ring\",\"The Two Towers\",\"The Return of the King\"]).astype(object)"
   ]
  },
  {
   "cell_type": "markdown",
   "metadata": {},
   "source": [
    "# Sentiment Analysis"
   ]
  },
  {
   "cell_type": "code",
   "execution_count": 6,
   "metadata": {},
   "outputs": [],
   "source": [
    "import nltk\n",
    "import re\n",
    "from nltk.corpus import stopwords\n",
    "\n",
    "rm_punctuation = lambda x : re.sub(r'[^A-Za-z]+', ' ', x)\n",
    "rm_ewhite = lambda x: x.strip()\n",
    "to_lower = lambda x: x.lower()\n",
    "rm_num = lambda x: re.sub(r'\\d+', '', x)\n",
    "def remove_useless_words(sentence):\n",
    "    excluded = ['no','not', 'nor', 'only', 'than', 'any', 'all',\n",
    "                \"thats\",\"weve\",\"hes\",\"theres\",\"ive\",\"im\",\"will\",\n",
    "                \"can\",\"cant\",\"dont\",\"youve\",\"us\",\"youre\",\"youll\",\n",
    "                \"theyre\",\"whats\",\"didnt\" ]\n",
    "    our_stop_words =[c for c in stopwords.words('english') if c not in excluded]\n",
    "    result = ' '.join([word for word in sentence.split() if word not in (our_stop_words)])   \n",
    "    return result"
   ]
  },
  {
   "cell_type": "code",
   "execution_count": 7,
   "metadata": {},
   "outputs": [
    {
     "name": "stderr",
     "output_type": "stream",
     "text": [
      "[nltk_data] Downloading package stopwords to\n",
      "[nltk_data]     C:\\Users\\46790\\AppData\\Roaming\\nltk_data...\n",
      "[nltk_data]   Package stopwords is already up-to-date!\n"
     ]
    },
    {
     "data": {
      "text/plain": [
       "True"
      ]
     },
     "execution_count": 7,
     "metadata": {},
     "output_type": "execute_result"
    }
   ],
   "source": [
    "script.dropna(inplace=True)\n",
    "import nltk\n",
    "nltk.download('stopwords')"
   ]
  },
  {
   "cell_type": "code",
   "execution_count": 8,
   "metadata": {},
   "outputs": [],
   "source": [
    "script[\"dialog\"] = script[\"dialog\"].apply(rm_punctuation)\n",
    "script[\"dialog\"]  = script[\"dialog\"].apply(rm_ewhite)\n",
    "script[\"dialog\"]  = script['dialog'].apply(to_lower)\n",
    "script[\"dialog\"]  = script['dialog'].apply(rm_num)\n",
    "script[\"dialog\"] = script['dialog'].apply(remove_useless_words)"
   ]
  },
  {
   "cell_type": "code",
   "execution_count": 9,
   "metadata": {},
   "outputs": [
    {
     "data": {
      "text/plain": [
       "array(['deagol', 'gollum', 'frodo', 'merry', 'gimli', 'sam', 'gandalf',\n",
       "       'aragorn', 'pippin', 'hobbit', 'rosie', 'bilbo', 'treebeard',\n",
       "       'saruman', 'theoden', 'galadril', 'elrond', 'grima', 'witch king',\n",
       "       'eowyn', 'faramir', 'orc', 'soldier gate', 'gothmog', 'general',\n",
       "       'captain', 'soldier', 'sauron', 'eomer', 'army', 'boson',\n",
       "       'mercenary', 'eowyn merry', 'denethor', 'rohirrim', 'galadriel',\n",
       "       'legolas', 'king dead', 'grimbold', 'irolas', 'gamling', 'madril',\n",
       "       'damrod', 'soldier minas tirith', 'woman', 'haldir', 'old man',\n",
       "       'boromir', 'crowd', 'arwen', 'hama', 'sharku', 'people', 'lady',\n",
       "       'freda', 'morwen', 'rohan stableman', 'gorbag', 'ugluk', 'shagrat',\n",
       "       'uruk hai', 'snaga', 'grishnakh', 'wildman', 'eothain',\n",
       "       'rohan horseman', 'farmer maggot', 'gaffer', 'noakes', 'sandyman',\n",
       "       'figwit', 'general shout', 'grishnak', 'mrs bracegirdle',\n",
       "       'proudfoot hobbit', 'gatekeepr', 'man', 'children hobbits',\n",
       "       'barliman', 'ring', 'men', ''], dtype=object)"
      ]
     },
     "execution_count": 9,
     "metadata": {},
     "output_type": "execute_result"
    }
   ],
   "source": [
    "script['char'] = script['char'].apply(to_lower)\n",
    "\n",
    "script['char'] = script['char'].replace(to_replace ='voiceover', value = '', regex=True)\n",
    "script['char'] = script['char'].replace(to_replace ='voice over', value = '', regex=True)\n",
    "script['char'] = script['char'].replace(to_replace ='voice-over', value = '', regex=True)\n",
    "script['char'] = script['char'].replace(to_replace ='voice', value = '', regex=True)\n",
    "\n",
    "script['char'] = script['char'].replace(to_replace ='mouth', value = '', regex=True)\n",
    "script['char'] = script['char'].replace(to_replace ='eye', value = '', regex=True)\n",
    "script['char'] = script['char'].replace(to_replace ='eye of', value = '', regex=True)\n",
    "\n",
    "script['char'] = script['char'].replace(to_replace ='strider', value = 'aragorn', regex=True)\n",
    "script['char'] = script['char'].replace(to_replace ='soldiers', value = 'soldier', regex=True)\n",
    "script['char'] = script['char'].replace(to_replace ='soldiers', value = 'soldier', regex=True)\n",
    "script['char'] = script['char'].replace(to_replace ='orcs', value = 'orc', regex=True)\n",
    "script['char'] = script['char'].replace(to_replace ='merry and pippin', value = 'merry', regex=True)\n",
    "script['char'] = script['char'].replace(to_replace ='merry AND pippin', value = 'pippin', regex=True)\n",
    "script['char'] = script['char'].replace(to_replace ='gatekeepr', value = 'gatekeeper', regex=True)\n",
    "script['char'] = script['char'].replace(to_replace ='argorn', value = 'aragorn', regex=True)\n",
    "script['char'] = script['char'].replace(to_replace ='gan dalf', value = 'gandalf', regex=True)\n",
    "script['char'] = script['char'].replace(to_replace ='gatekeeper', value = 'gatekeepr', regex=True)\n",
    "script['char'] = script['char'].replace(to_replace ='smeagol', value = 'gollum', regex=True)\n",
    "script['char'] = script['char'].replace(to_replace ='white wizard', value = 'gandalf', regex=True)\n",
    "\n",
    "script['char'] = script['char'].apply(rm_punctuation)\n",
    "script['char'] = script['char'].apply(rm_ewhite)\n",
    "script['char'] = script['char'].apply(rm_num)\n",
    "script['char'] = script['char'].apply(remove_useless_words)\n",
    "\n",
    "pd.unique(script['char'])"
   ]
  },
  {
   "cell_type": "code",
   "execution_count": 10,
   "metadata": {},
   "outputs": [
    {
     "data": {
      "text/html": [
       "<div>\n",
       "<style scoped>\n",
       "    .dataframe tbody tr th:only-of-type {\n",
       "        vertical-align: middle;\n",
       "    }\n",
       "\n",
       "    .dataframe tbody tr th {\n",
       "        vertical-align: top;\n",
       "    }\n",
       "\n",
       "    .dataframe thead th {\n",
       "        text-align: right;\n",
       "    }\n",
       "</style>\n",
       "<table border=\"1\" class=\"dataframe\">\n",
       "  <thead>\n",
       "    <tr style=\"text-align: right;\">\n",
       "      <th></th>\n",
       "      <th>Unnamed: 0</th>\n",
       "      <th>char</th>\n",
       "      <th>dialog</th>\n",
       "      <th>movie</th>\n",
       "      <th>count</th>\n",
       "    </tr>\n",
       "  </thead>\n",
       "  <tbody>\n",
       "    <tr>\n",
       "      <th>653</th>\n",
       "      <td>653</td>\n",
       "      <td>frodo</td>\n",
       "      <td>holding sam</td>\n",
       "      <td>The Two Towers</td>\n",
       "      <td>229</td>\n",
       "    </tr>\n",
       "    <tr>\n",
       "      <th>223</th>\n",
       "      <td>223</td>\n",
       "      <td>frodo</td>\n",
       "      <td>smell</td>\n",
       "      <td>The Return of the King</td>\n",
       "      <td>229</td>\n",
       "    </tr>\n",
       "    <tr>\n",
       "      <th>814</th>\n",
       "      <td>814</td>\n",
       "      <td>frodo</td>\n",
       "      <td>can right sam tried tell sorry ring taking sam put find see</td>\n",
       "      <td>The Two Towers</td>\n",
       "      <td>229</td>\n",
       "    </tr>\n",
       "    <tr>\n",
       "      <th>248</th>\n",
       "      <td>248</td>\n",
       "      <td>frodo</td>\n",
       "      <td>destroy smeagol destroy sakes</td>\n",
       "      <td>The Return of the King</td>\n",
       "      <td>229</td>\n",
       "    </tr>\n",
       "    <tr>\n",
       "      <th>246</th>\n",
       "      <td>246</td>\n",
       "      <td>frodo</td>\n",
       "      <td>no</td>\n",
       "      <td>The Return of the King</td>\n",
       "      <td>229</td>\n",
       "    </tr>\n",
       "  </tbody>\n",
       "</table>\n",
       "</div>"
      ],
      "text/plain": [
       "     Unnamed: 0   char  \\\n",
       "653         653  frodo   \n",
       "223         223  frodo   \n",
       "814         814  frodo   \n",
       "248         248  frodo   \n",
       "246         246  frodo   \n",
       "\n",
       "                                                          dialog  \\\n",
       "653                                                  holding sam   \n",
       "223                                                        smell   \n",
       "814  can right sam tried tell sorry ring taking sam put find see   \n",
       "248                                destroy smeagol destroy sakes   \n",
       "246                                                           no   \n",
       "\n",
       "                       movie  count  \n",
       "653          The Two Towers     229  \n",
       "223  The Return of the King     229  \n",
       "814          The Two Towers     229  \n",
       "248  The Return of the King     229  \n",
       "246  The Return of the King     229  "
      ]
     },
     "execution_count": 10,
     "metadata": {},
     "output_type": "execute_result"
    }
   ],
   "source": [
    "#add a column count how many sentenses spoken by the character in total\n",
    "script[\"count\"] = script[\"char\"].map(lambda x: script[\"char\"].tolist().count(x) )\n",
    "script = script.sort_values(\"count\",ascending = False)\n",
    "script.head()"
   ]
  },
  {
   "cell_type": "code",
   "execution_count": 11,
   "metadata": {
    "tags": []
   },
   "outputs": [],
   "source": [
    "#clean the data, little bit different from the last time\n",
    "frodo =script[script[\"char\"]==\"frodo\"][\"dialog\"].reset_index(drop=True).tolist()\n",
    "sam =script[script[\"char\"]==\"sam\"][\"dialog\"].reset_index(drop=True).tolist()\n",
    "gandalf =script[script[\"char\"]==\"gandalf\"][\"dialog\"].reset_index(drop=True).tolist()\n",
    "aragorn =script[script[\"char\"]==\"aragorn\"][\"dialog\"].reset_index(drop=True).tolist()\n",
    "gollum =script[script[\"char\"]==\"gollum\"][\"dialog\"].reset_index(drop=True).tolist()\n",
    "pippin =script[script[\"char\"]==\"pippin\"][\"dialog\"].reset_index(drop=True).tolist()\n",
    "merry =script[script[\"char\"]==\"merry\"][\"dialog\"].reset_index(drop=True).tolist()\n",
    "arwen =script[script[\"char\"]==\"arwen\"][\"dialog\"].reset_index(drop=True).tolist()\n",
    "orc =script[script[\"char\"]==\"orc\"][\"dialog\"].reset_index(drop=True).tolist()"
   ]
  },
  {
   "cell_type": "code",
   "execution_count": null,
   "metadata": {},
   "outputs": [],
   "source": []
  },
  {
   "cell_type": "code",
   "execution_count": 12,
   "metadata": {
    "tags": []
   },
   "outputs": [],
   "source": [
    "from nltk.sentiment.vader import SentimentIntensityAnalyzer\n",
    "from sklearn.metrics import accuracy_score"
   ]
  },
  {
   "cell_type": "code",
   "execution_count": 13,
   "metadata": {
    "tags": []
   },
   "outputs": [],
   "source": [
    "#generate a dictonary that make printing out the resault esiear.\n",
    "charlist = {\"frodo\":frodo,\"sam\":sam,\"gandalf\":gandalf, \"aragorn\": aragorn,\"gollum\": gollum,\"pippin\":pippin,'merry':merry,\"arwen\":arwen,\"orc\":orc}"
   ]
  },
  {
   "cell_type": "code",
   "execution_count": 14,
   "metadata": {},
   "outputs": [],
   "source": [
    "def flattena(t):\n",
    "    return [item for sublist in t for item in sublist]\n",
    "def flattenb(t):\n",
    "    return [item for item in t]"
   ]
  },
  {
   "cell_type": "code",
   "execution_count": 15,
   "metadata": {
    "tags": []
   },
   "outputs": [],
   "source": [
    "#sentiment analysis\n",
    "def sentimentA(char):\n",
    "    vader = SentimentIntensityAnalyzer()\n",
    "    res_dic = [vader.polarity_scores(text) for text in charlist[char]]\n",
    "    res_dic = [res_dic[i] for i in range(len(res_dic)) if res_dic[i][\"compound\"]!=0]\n",
    "    res_neg = np.mean([res_dic[i]['neg'] for i in range(len(res_dic))])\n",
    "    res_pos = np.mean([res_dic[i]['pos'] for i in range(len(res_dic))])\n",
    "    res_com = np.mean([res_dic[i]['compound'] for i in range(len(res_dic))])\n",
    "#     print(char+\":\", res_com)    \n",
    "    return res_com"
   ]
  },
  {
   "cell_type": "code",
   "execution_count": 16,
   "metadata": {},
   "outputs": [
    {
     "data": {
      "text/plain": [
       "{'frodo': 0.07666666666666667,\n",
       " 'sam': -0.08319797979797978,\n",
       " 'gandalf': -0.01646060606060605,\n",
       " 'aragorn': 0.0029137499999999927,\n",
       " 'gollum': -0.008842016806722693,\n",
       " 'pippin': 0.19337710843373493,\n",
       " 'merry': 0.09299183673469388,\n",
       " 'arwen': 0.05379375,\n",
       " 'orc': 0.05315}"
      ]
     },
     "execution_count": 16,
     "metadata": {},
     "output_type": "execute_result"
    }
   ],
   "source": [
    "sen = {}\n",
    "for i in charlist:\n",
    "    sen[i] = sentimentA(i)\n",
    "sen"
   ]
  },
  {
   "cell_type": "code",
   "execution_count": 17,
   "metadata": {},
   "outputs": [
    {
     "data": {
      "text/plain": [
       "<BarContainer object of 9 artists>"
      ]
     },
     "execution_count": 17,
     "metadata": {},
     "output_type": "execute_result"
    },
    {
     "data": {
      "image/png": "[encoded data removed]",
      "text/plain": [
       "<Figure size 432x288 with 1 Axes>"
      ]
     },
     "metadata": {
      "needs_background": "light"
     },
     "output_type": "display_data"
    }
   ],
   "source": [
    "# calculate the score sentence by sentence.\n",
    "\n",
    "sf = [*sen]\n",
    "vf = [v for v in sen.values()]\n",
    "plt.bar(sf, vf)"
   ]
  },
  {
   "cell_type": "code",
   "execution_count": 18,
   "metadata": {},
   "outputs": [],
   "source": [
    "def sentimentB(char):\n",
    "    v = nltk.sentiment.vader.SentimentIntensityAnalyzer()\n",
    "    d3_all = ' '.join(charlist[char])\n",
    "    return v.polarity_scores(d3_all)"
   ]
  },
  {
   "cell_type": "code",
   "execution_count": 19,
   "metadata": {},
   "outputs": [
    {
     "name": "stdout",
     "output_type": "stream",
     "text": [
      "frodo :  0.973\n",
      "sam :  -0.998\n",
      "gandalf :  -0.9956\n",
      "aragorn :  0.9933\n",
      "gollum :  -0.9972\n",
      "pippin :  0.9992\n",
      "merry :  0.9943\n",
      "arwen :  -0.2649\n",
      "orc :  -0.4795\n"
     ]
    }
   ],
   "source": [
    "senb = {}\n",
    "# new method, just put all text in one string, and score it, rather than calculate the mean of all sentence.\n",
    "for char in charlist:\n",
    "    senb[char] =  sentimentB(char)['compound']\n",
    "    print(char, \": \", sentimentB(char)['compound'])"
   ]
  },
  {
   "cell_type": "code",
   "execution_count": 20,
   "metadata": {},
   "outputs": [
    {
     "name": "stdout",
     "output_type": "stream",
     "text": [
      "[0.973, -0.998, -0.9956, 0.9933, -0.9972, 0.9992, 0.9943, -0.2649, -0.4795]\n",
      "[ 1.06020176 -1.14397514 -1.14129121  1.08290332 -1.1430805   1.08950132\n",
      "  1.08402163 -0.32414658 -0.56413459]\n"
     ]
    },
    {
     "data": {
      "text/plain": [
       "<BarContainer object of 9 artists>"
      ]
     },
     "execution_count": 20,
     "metadata": {},
     "output_type": "execute_result"
    },
    {
     "data": {
      "image/png": "[encoded data removed]",
      "text/plain": [
       "<Figure size 432x288 with 1 Axes>"
      ]
     },
     "metadata": {
      "needs_background": "light"
     },
     "output_type": "display_data"
    }
   ],
   "source": [
    "import scipy.stats as stats\n",
    "\n",
    "# calculate the score all in once.\n",
    "\n",
    "sfb = [*senb] # it should be fine if just use sf, rather than sfb.\n",
    "vfb = [v for v in senb.values()]\n",
    "print(vfb)\n",
    "normalized = stats.zscore(vfb)\n",
    "print(normalized)\n",
    "plt.bar(sfb, normalized)"
   ]
  },
  {
   "cell_type": "code",
   "execution_count": 21,
   "metadata": {},
   "outputs": [],
   "source": [
    "def sentimentC(char):\n",
    "    vader = nltk.sentiment.vader.SentimentIntensityAnalyzer()\n",
    "    d3 = flattena([ word.split() for word in charlist[char]])\n",
    "    res_dic = [vader.polarity_scores(word) for word in d3]\n",
    "    res_dic = [res_dic[i] for i in range(len(res_dic)) if res_dic[i][\"compound\"]!=0]\n",
    "    res_neg = np.mean([res_dic[i]['neg'] for i in range(len(res_dic))])\n",
    "    res_pos = np.mean([res_dic[i]['pos'] for i in range(len(res_dic))])\n",
    "    res_com = np.mean([res_dic[i]['compound'] for i in range(len(res_dic))])\n",
    "    return res_com"
   ]
  },
  {
   "cell_type": "code",
   "execution_count": 22,
   "metadata": {},
   "outputs": [
    {
     "data": {
      "text/plain": [
       "{'frodo': 0.04621627906976744,\n",
       " 'sam': -0.06779714285714286,\n",
       " 'gandalf': -0.0387578125,\n",
       " 'aragorn': -0.04919765624999999,\n",
       " 'gollum': -0.021164157706093187,\n",
       " 'pippin': 0.12285735294117647,\n",
       " 'merry': 0.0938435294117647,\n",
       " 'arwen': -0.028528571428571417,\n",
       " 'orc': 0.11035000000000003}"
      ]
     },
     "execution_count": 22,
     "metadata": {},
     "output_type": "execute_result"
    }
   ],
   "source": [
    "senc = {}\n",
    "for i in charlist:\n",
    "    senc[i] = sentimentC(i)\n",
    "senc"
   ]
  },
  {
   "cell_type": "code",
   "execution_count": 23,
   "metadata": {},
   "outputs": [
    {
     "data": {
      "text/plain": [
       "<BarContainer object of 9 artists>"
      ]
     },
     "execution_count": 23,
     "metadata": {},
     "output_type": "execute_result"
    },
    {
     "data": {
      "image/png": "[encoded data removed]",
      "text/plain": [
       "<Figure size 432x288 with 1 Axes>"
      ]
     },
     "metadata": {
      "needs_background": "light"
     },
     "output_type": "display_data"
    }
   ],
   "source": [
    "# calculate the score word by word\n",
    "sfc = [*senc]\n",
    "vfc = [v for v in senc.values()]\n",
    "plt.bar(sfc, vfc)"
   ]
  },
  {
   "cell_type": "markdown",
   "metadata": {},
   "source": [
    "## Their age.\n",
    "\n",
    "Frodo Baggins - 50\n",
    "Samwise Gamgee - 38\n",
    "Gandalf - Approx. 2000 Years\n",
    "Aragorn - 87\n",
    "Legolas - Very Old\n",
    "Gimli - 139\n",
    "Meridoc Brandybuck - 36\n",
    "Peregrin Took - 28\n",
    "Boromir - 40\n",
    "\n",
    "reference \n",
    "\n",
    "https://screenrant.com/lord-rings-fellowship-characters-ages-how-old/\n",
    "\n",
    "https://www.statista.com/statistics/384102/age-of-selected-characters-in-lord-of-the-rings/\n",
    "\n",
    "https://lotr.fandom.com/wiki/Arwen"
   ]
  },
  {
   "cell_type": "code",
   "execution_count": 24,
   "metadata": {},
   "outputs": [],
   "source": [
    "ages = {\n",
    "    'frodo': 50,\n",
    "    'sam':38,\n",
    "    'gandalf':2000,\n",
    "    'aragorn':87,\n",
    "    'gollum':589,\n",
    "    'pippin':29,\n",
    "    'merry' :37,\n",
    "    'arwen':2901,\n",
    "    'orc':50,\n",
    "}"
   ]
  },
  {
   "cell_type": "code",
   "execution_count": 25,
   "metadata": {},
   "outputs": [
    {
     "data": {
      "text/plain": [
       "<BarContainer object of 9 artists>"
      ]
     },
     "execution_count": 25,
     "metadata": {},
     "output_type": "execute_result"
    },
    {
     "data": {
      "image/png": "[encoded data removed]",
      "text/plain": [
       "<Figure size 432x288 with 1 Axes>"
      ]
     },
     "metadata": {
      "needs_background": "light"
     },
     "output_type": "display_data"
    }
   ],
   "source": [
    "# calculate the score word by word\n",
    "# sfc = [*senc]\n",
    "# vfc = [v for v in senc.values()]\n",
    "# plt.bar(sfc, vfc)\n",
    "agek = [*ages]\n",
    "agev = [v for v in ages.values()]\n",
    "plt.bar(agek, agev)"
   ]
  },
  {
   "cell_type": "code",
   "execution_count": 29,
   "metadata": {},
   "outputs": [
    {
     "data": {
      "image/png": "[encoded data removed]",
      "text/plain": [
       "<Figure size 432x288 with 2 Axes>"
      ]
     },
     "metadata": {
      "needs_background": "light"
     },
     "output_type": "display_data"
    }
   ],
   "source": [
    "# plt.plot(agek,agev,marker='o', mec='r', mfc='w',label=\"age\")\n",
    "# plt.plot(sfc,vfc,marker='*', ms=10,label=\"sentiment\")\n",
    "\n",
    "fig,ax = plt.subplots()\n",
    "ax.plot(agek,agev,color=\"red\", marker=\"o\")\n",
    "ax.set_xlabel(\"Roles\")\n",
    "ax.set_ylabel(\"Ages\")\n",
    "\n",
    "ax2=ax.twinx()\n",
    "ax2.plot(sfc, vfc,color=\"blue\",marker=\"o\")\n",
    "ax2.set_ylabel(\"sentiment rate\",color=\"blue\")\n",
    "plt.show()"
   ]
  }
 ],
 "metadata": {
  "kernelspec": {
   "display_name": "Python 3",
   "language": "python",
   "name": "python3"
  },
  "language_info": {
   "codemirror_mode": {
    "name": "ipython",
    "version": 3
   },
   "file_extension": ".py",
   "mimetype": "text/x-python",
   "name": "python",
   "nbconvert_exporter": "python",
   "pygments_lexer": "ipython3",
   "version": "3.8.8"
  }
 },
 "nbformat": 4,
 "nbformat_minor": 4
}
