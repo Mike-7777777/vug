{
 "cells": [
  {
   "cell_type": "code",
   "execution_count": 1,
   "metadata": {},
   "outputs": [],
   "source": [
    "import numpy as np\n",
    "import pandas as pd\n",
    "import math\n",
    "import matplotlib.pyplot as plt \n",
    "import seaborn as sns\n",
    "import re\n",
    "import missingno as msno\n",
    "from bokeh.core.properties import value\n",
    "from bokeh.io import show,output_notebook\n",
    "from bokeh.plotting import figure\n",
    "from bokeh.models import (\n",
    "    ColumnDataSource,\n",
    "    HoverTool,\n",
    "    LogColorMapper\n",
    ")\n",
    "from bokeh.palettes import Viridis6 as palette\n",
    "from bokeh.layouts import row\n",
    "import nltk\n",
    "from os import path\n",
    "from PIL import Image\n",
    "import numpy as np\n",
    "import matplotlib.pyplot as plt\n",
    "\n",
    "from wordcloud import WordCloud, STOPWORDS, ImageColorGenerator\n",
    "from nltk.sentiment import SentimentAnalyzer \n",
    "\n",
    "pd.set_option('display.max_colwidth', None)\n",
    "# pd.set_option('display.max_colwidth', -1) # @Qumeng: caused futerwarning\n",
    "pd.set_option('display.max_rows', None)  \n",
    "%matplotlib inline"
   ]
  },
  {
   "cell_type": "code",
   "execution_count": 2,
   "metadata": {
    "tags": []
   },
   "outputs": [],
   "source": [
    "script = pd.read_csv(\"script.csv\",encoding='utf-8')"
   ]
  },
  {
   "cell_type": "code",
   "execution_count": 3,
   "metadata": {},
   "outputs": [
    {
     "data": {
      "text/html": [
       "<div>\n",
       "<style scoped>\n",
       "    .dataframe tbody tr th:only-of-type {\n",
       "        vertical-align: middle;\n",
       "    }\n",
       "\n",
       "    .dataframe tbody tr th {\n",
       "        vertical-align: top;\n",
       "    }\n",
       "\n",
       "    .dataframe thead th {\n",
       "        text-align: right;\n",
       "    }\n",
       "</style>\n",
       "<table border=\"1\" class=\"dataframe\">\n",
       "  <thead>\n",
       "    <tr style=\"text-align: right;\">\n",
       "      <th></th>\n",
       "      <th>Unnamed: 0</th>\n",
       "      <th>char</th>\n",
       "      <th>dialog</th>\n",
       "      <th>movie</th>\n",
       "    </tr>\n",
       "  </thead>\n",
       "  <tbody>\n",
       "    <tr>\n",
       "      <th>0</th>\n",
       "      <td>0</td>\n",
       "      <td>DEAGOL</td>\n",
       "      <td>Oh Smeagol Ive got one! , Ive got a fish Smeagol, Smeagol!</td>\n",
       "      <td>The Return of the King</td>\n",
       "    </tr>\n",
       "    <tr>\n",
       "      <th>1</th>\n",
       "      <td>1</td>\n",
       "      <td>SMEAGOL</td>\n",
       "      <td>Pull it in! Go on, go on, go on, pull it in!</td>\n",
       "      <td>The Return of the King</td>\n",
       "    </tr>\n",
       "    <tr>\n",
       "      <th>2</th>\n",
       "      <td>2</td>\n",
       "      <td>DEAGOL</td>\n",
       "      <td>Arrghh!</td>\n",
       "      <td>The Return of the King</td>\n",
       "    </tr>\n",
       "    <tr>\n",
       "      <th>3</th>\n",
       "      <td>3</td>\n",
       "      <td>SMEAGOL</td>\n",
       "      <td>Deagol!</td>\n",
       "      <td>The Return of the King</td>\n",
       "    </tr>\n",
       "    <tr>\n",
       "      <th>4</th>\n",
       "      <td>4</td>\n",
       "      <td>SMEAGOL</td>\n",
       "      <td>Deagol!</td>\n",
       "      <td>The Return of the King</td>\n",
       "    </tr>\n",
       "  </tbody>\n",
       "</table>\n",
       "</div>"
      ],
      "text/plain": [
       "   Unnamed: 0     char  \\\n",
       "0           0   DEAGOL   \n",
       "1           1  SMEAGOL   \n",
       "2           2   DEAGOL   \n",
       "3           3  SMEAGOL   \n",
       "4           4  SMEAGOL   \n",
       "\n",
       "                                                           dialog  \\\n",
       "0  Oh Smeagol Ive got one! , Ive got a fish Smeagol, Smeagol!       \n",
       "1                   Pull it in! Go on, go on, go on, pull it in!    \n",
       "2                                                        Arrghh!    \n",
       "3                                                        Deagol!    \n",
       "4                                                        Deagol!    \n",
       "\n",
       "                     movie  \n",
       "0  The Return of the King   \n",
       "1  The Return of the King   \n",
       "2  The Return of the King   \n",
       "3  The Return of the King   \n",
       "4  The Return of the King   "
      ]
     },
     "execution_count": 3,
     "metadata": {},
     "output_type": "execute_result"
    }
   ],
   "source": [
    "script.head()"
   ]
  },
  {
   "cell_type": "code",
   "execution_count": 4,
   "metadata": {},
   "outputs": [],
   "source": [
    "# sort by count, and draw bar chart shows the sentences spoken by different characters in total.\n",
    "# script1 = script[script[\"count\"]>=22]\n",
    "# order = script1[\"char\"].unique()\n",
    "# char = script1[\"char\"]\n",
    "# a = char.value_counts()\n",
    "# a = a.sort_values(ascending = False)[0:50]\n",
    "# plt.figure(figsize=(20,10))\n",
    "# b = a.plot(kind = \"bar\",color = \"grey\")"
   ]
  },
  {
   "cell_type": "code",
   "execution_count": 5,
   "metadata": {
    "tags": []
   },
   "outputs": [],
   "source": [
    "# #gourpby moives and characters\n",
    "# grouped = script1.groupby(['char',\"movie\"]).count()\n",
    "# grouped.columns = [\"_\".join(x) for x in grouped.columns.ravel()]\n",
    "# grouped = grouped.reset_index()\n",
    "# grouped = grouped.iloc[:,:3]\n",
    "# grouped.columns = [\"char\",\"movie\",\"count\"]\n",
    "# grouped.head()\n",
    "# hue_order = np.array([\"The Fellowship of the Ring\",\"The Two Towers\",\"The Return of the King\"]).astype(object)"
   ]
  },
  {
   "cell_type": "markdown",
   "metadata": {},
   "source": [
    "# Sentiment Analysis"
   ]
  },
  {
   "cell_type": "code",
   "execution_count": 6,
   "metadata": {},
   "outputs": [],
   "source": [
    "import nltk\n",
    "import re\n",
    "from nltk.corpus import stopwords\n",
    "\n",
    "rm_punctuation = lambda x : re.sub(r'[^A-Za-z]+', ' ', x)\n",
    "rm_ewhite = lambda x: x.strip()\n",
    "to_lower = lambda x: x.lower()\n",
    "rm_num = lambda x: re.sub(r'\\d+', '', x)\n",
    "def remove_useless_words(sentence):\n",
    "    excluded = ['no','not', 'nor', 'only', 'than', 'any', 'all',\n",
    "                \"thats\",\"weve\",\"hes\",\"theres\",\"ive\",\"im\",\"will\",\n",
    "                \"can\",\"cant\",\"dont\",\"youve\",\"us\",\"youre\",\"youll\",\n",
    "                \"theyre\",\"whats\",\"didnt\" ]\n",
    "    our_stop_words =[c for c in stopwords.words('english') if c not in excluded]\n",
    "    result = ' '.join([word for word in sentence.split() if word not in (our_stop_words)])   \n",
    "    return result"
   ]
  },
  {
   "cell_type": "code",
   "execution_count": 7,
   "metadata": {},
   "outputs": [
    {
     "name": "stderr",
     "output_type": "stream",
     "text": [
      "[nltk_data] Downloading package stopwords to\n",
      "[nltk_data]     C:\\Users\\46790\\AppData\\Roaming\\nltk_data...\n",
      "[nltk_data]   Package stopwords is already up-to-date!\n"
     ]
    },
    {
     "data": {
      "text/plain": [
       "True"
      ]
     },
     "execution_count": 7,
     "metadata": {},
     "output_type": "execute_result"
    }
   ],
   "source": [
    "script.dropna(inplace=True)\n",
    "import nltk\n",
    "nltk.download('stopwords')"
   ]
  },
  {
   "cell_type": "code",
   "execution_count": 8,
   "metadata": {},
   "outputs": [],
   "source": [
    "script[\"dialog\"] = script[\"dialog\"].apply(rm_punctuation)\n",
    "script[\"dialog\"]  = script[\"dialog\"].apply(rm_ewhite)\n",
    "script[\"dialog\"]  = script['dialog'].apply(to_lower)\n",
    "script[\"dialog\"]  = script['dialog'].apply(rm_num)\n",
    "script[\"dialog\"] = script['dialog'].apply(remove_useless_words)"
   ]
  },
  {
   "cell_type": "code",
   "execution_count": 9,
   "metadata": {},
   "outputs": [
    {
     "data": {
      "text/plain": [
       "array(['deagol', 'gollum', 'frodo', 'merry', 'gimli', 'sam', 'gandalf',\n",
       "       'aragorn', 'pippin', 'hobbit', 'rosie', 'bilbo', 'treebeard',\n",
       "       'saruman', 'theoden', 'galadril', 'elrond', 'grima', 'witch king',\n",
       "       'eowyn', 'faramir', 'orc', 'soldier gate', 'gothmog', 'general',\n",
       "       'captain', 'soldier', 'sauron', 'eomer', 'army', 'boson',\n",
       "       'mercenary', 'eowyn merry', 'denethor', 'rohirrim', 'galadriel',\n",
       "       'legolas', 'king dead', 'grimbold', 'irolas', 'gamling', 'madril',\n",
       "       'damrod', 'soldier minas tirith', 'woman', 'haldir', 'old man',\n",
       "       'boromir', 'crowd', 'arwen', 'hama', 'sharku', 'people', 'lady',\n",
       "       'freda', 'morwen', 'rohan stableman', 'gorbag', 'ugluk', 'shagrat',\n",
       "       'uruk hai', 'snaga', 'grishnakh', 'wildman', 'eothain',\n",
       "       'rohan horseman', 'farmer maggot', 'gaffer', 'noakes', 'sandyman',\n",
       "       'figwit', 'general shout', 'grishnak', 'mrs bracegirdle',\n",
       "       'proudfoot hobbit', 'gatekeepr', 'man', 'children hobbits',\n",
       "       'barliman', 'ring', 'men', ''], dtype=object)"
      ]
     },
     "execution_count": 9,
     "metadata": {},
     "output_type": "execute_result"
    }
   ],
   "source": [
    "script['char'] = script['char'].apply(to_lower)\n",
    "\n",
    "script['char'] = script['char'].replace(to_replace ='voiceover', value = '', regex=True)\n",
    "script['char'] = script['char'].replace(to_replace ='voice over', value = '', regex=True)\n",
    "script['char'] = script['char'].replace(to_replace ='voice-over', value = '', regex=True)\n",
    "script['char'] = script['char'].replace(to_replace ='voice', value = '', regex=True)\n",
    "\n",
    "script['char'] = script['char'].replace(to_replace ='mouth', value = '', regex=True)\n",
    "script['char'] = script['char'].replace(to_replace ='eye', value = '', regex=True)\n",
    "script['char'] = script['char'].replace(to_replace ='eye of', value = '', regex=True)\n",
    "\n",
    "script['char'] = script['char'].replace(to_replace ='strider', value = 'aragorn', regex=True)\n",
    "script['char'] = script['char'].replace(to_replace ='soldiers', value = 'soldier', regex=True)\n",
    "script['char'] = script['char'].replace(to_replace ='soldiers', value = 'soldier', regex=True)\n",
    "script['char'] = script['char'].replace(to_replace ='orcs', value = 'orc', regex=True)\n",
    "script['char'] = script['char'].replace(to_replace ='merry and pippin', value = 'merry', regex=True)\n",
    "script['char'] = script['char'].replace(to_replace ='merry AND pippin', value = 'pippin', regex=True)\n",
    "script['char'] = script['char'].replace(to_replace ='gatekeepr', value = 'gatekeeper', regex=True)\n",
    "script['char'] = script['char'].replace(to_replace ='argorn', value = 'aragorn', regex=True)\n",
    "script['char'] = script['char'].replace(to_replace ='gan dalf', value = 'gandalf', regex=True)\n",
    "script['char'] = script['char'].replace(to_replace ='gatekeeper', value = 'gatekeepr', regex=True)\n",
    "script['char'] = script['char'].replace(to_replace ='smeagol', value = 'gollum', regex=True)\n",
    "script['char'] = script['char'].replace(to_replace ='white wizard', value = 'gandalf', regex=True)\n",
    "\n",
    "script['char'] = script['char'].apply(rm_punctuation)\n",
    "script['char'] = script['char'].apply(rm_ewhite)\n",
    "script['char'] = script['char'].apply(rm_num)\n",
    "script['char'] = script['char'].apply(remove_useless_words)\n",
    "\n",
    "pd.unique(script['char'])"
   ]
  },
  {
   "cell_type": "code",
   "execution_count": 10,
   "metadata": {},
   "outputs": [
    {
     "data": {
      "text/html": [
       "<div>\n",
       "<style scoped>\n",
       "    .dataframe tbody tr th:only-of-type {\n",
       "        vertical-align: middle;\n",
       "    }\n",
       "\n",
       "    .dataframe tbody tr th {\n",
       "        vertical-align: top;\n",
       "    }\n",
       "\n",
       "    .dataframe thead th {\n",
       "        text-align: right;\n",
       "    }\n",
       "</style>\n",
       "<table border=\"1\" class=\"dataframe\">\n",
       "  <thead>\n",
       "    <tr style=\"text-align: right;\">\n",
       "      <th></th>\n",
       "      <th>Unnamed: 0</th>\n",
       "      <th>char</th>\n",
       "      <th>dialog</th>\n",
       "      <th>movie</th>\n",
       "      <th>count</th>\n",
       "    </tr>\n",
       "  </thead>\n",
       "  <tbody>\n",
       "    <tr>\n",
       "      <th>653</th>\n",
       "      <td>653</td>\n",
       "      <td>frodo</td>\n",
       "      <td>holding sam</td>\n",
       "      <td>The Two Towers</td>\n",
       "      <td>229</td>\n",
       "    </tr>\n",
       "    <tr>\n",
       "      <th>223</th>\n",
       "      <td>223</td>\n",
       "      <td>frodo</td>\n",
       "      <td>smell</td>\n",
       "      <td>The Return of the King</td>\n",
       "      <td>229</td>\n",
       "    </tr>\n",
       "    <tr>\n",
       "      <th>814</th>\n",
       "      <td>814</td>\n",
       "      <td>frodo</td>\n",
       "      <td>can right sam tried tell sorry ring taking sam put find see</td>\n",
       "      <td>The Two Towers</td>\n",
       "      <td>229</td>\n",
       "    </tr>\n",
       "    <tr>\n",
       "      <th>248</th>\n",
       "      <td>248</td>\n",
       "      <td>frodo</td>\n",
       "      <td>destroy smeagol destroy sakes</td>\n",
       "      <td>The Return of the King</td>\n",
       "      <td>229</td>\n",
       "    </tr>\n",
       "    <tr>\n",
       "      <th>246</th>\n",
       "      <td>246</td>\n",
       "      <td>frodo</td>\n",
       "      <td>no</td>\n",
       "      <td>The Return of the King</td>\n",
       "      <td>229</td>\n",
       "    </tr>\n",
       "  </tbody>\n",
       "</table>\n",
       "</div>"
      ],
      "text/plain": [
       "     Unnamed: 0   char  \\\n",
       "653         653  frodo   \n",
       "223         223  frodo   \n",
       "814         814  frodo   \n",
       "248         248  frodo   \n",
       "246         246  frodo   \n",
       "\n",
       "                                                          dialog  \\\n",
       "653                                                  holding sam   \n",
       "223                                                        smell   \n",
       "814  can right sam tried tell sorry ring taking sam put find see   \n",
       "248                                destroy smeagol destroy sakes   \n",
       "246                                                           no   \n",
       "\n",
       "                       movie  count  \n",
       "653          The Two Towers     229  \n",
       "223  The Return of the King     229  \n",
       "814          The Two Towers     229  \n",
       "248  The Return of the King     229  \n",
       "246  The Return of the King     229  "
      ]
     },
     "execution_count": 10,
     "metadata": {},
     "output_type": "execute_result"
    }
   ],
   "source": [
    "#add a column count how many sentenses spoken by the character in total\n",
    "script[\"count\"] = script[\"char\"].map(lambda x: script[\"char\"].tolist().count(x) )\n",
    "script = script.sort_values(\"count\",ascending = False)\n",
    "script.head()"
   ]
  },
  {
   "cell_type": "code",
   "execution_count": 11,
   "metadata": {
    "tags": []
   },
   "outputs": [],
   "source": [
    "#clean the data, little bit different from the last time\n",
    "frodo =script[script[\"char\"]==\"frodo\"][\"dialog\"].reset_index(drop=True).tolist()\n",
    "sam =script[script[\"char\"]==\"sam\"][\"dialog\"].reset_index(drop=True).tolist()\n",
    "gandalf =script[script[\"char\"]==\"gandalf\"][\"dialog\"].reset_index(drop=True).tolist()\n",
    "aragorn =script[script[\"char\"]==\"aragorn\"][\"dialog\"].reset_index(drop=True).tolist()\n",
    "gollum =script[script[\"char\"]==\"gollum\"][\"dialog\"].reset_index(drop=True).tolist()\n",
    "pippin =script[script[\"char\"]==\"pippin\"][\"dialog\"].reset_index(drop=True).tolist()\n",
    "merry =script[script[\"char\"]==\"merry\"][\"dialog\"].reset_index(drop=True).tolist()\n",
    "arwen =script[script[\"char\"]==\"arwen\"][\"dialog\"].reset_index(drop=True).tolist()\n",
    "orc =script[script[\"char\"]==\"orc\"][\"dialog\"].reset_index(drop=True).tolist()"
   ]
  },
  {
   "cell_type": "code",
   "execution_count": null,
   "metadata": {},
   "outputs": [],
   "source": []
  },
  {
   "cell_type": "code",
   "execution_count": 12,
   "metadata": {
    "tags": []
   },
   "outputs": [],
   "source": [
    "from nltk.sentiment.vader import SentimentIntensityAnalyzer\n",
    "from sklearn.metrics import accuracy_score"
   ]
  },
  {
   "cell_type": "code",
   "execution_count": 13,
   "metadata": {
    "tags": []
   },
   "outputs": [],
   "source": [
    "#generate a dictonary that make printing out the resault esiear.\n",
    "charlist = {\"frodo\":frodo,\"sam\":sam,\"gandalf\":gandalf, \"aragorn\": aragorn,\"gollum\": gollum,\"pippin\":pippin,'merry':merry,\"arwen\":arwen,\"orc\":orc}"
   ]
  },
  {
   "cell_type": "code",
   "execution_count": 14,
   "metadata": {},
   "outputs": [],
   "source": [
    "def flattena(t):\n",
    "    return [item for sublist in t for item in sublist]\n",
    "def flattenb(t):\n",
    "    return [item for item in t]"
   ]
  },
  {
   "cell_type": "code",
   "execution_count": 15,
   "metadata": {
    "tags": []
   },
   "outputs": [],
   "source": [
    "#sentiment analysis\n",
    "def sentimentA(char):\n",
    "    vader = SentimentIntensityAnalyzer()\n",
    "    res_dic = [vader.polarity_scores(text) for text in charlist[char]]\n",
    "    res_dic = [res_dic[i] for i in range(len(res_dic)) if res_dic[i][\"compound\"]!=0]\n",
    "    res_neg = np.mean([res_dic[i]['neg'] for i in range(len(res_dic))])\n",
    "    res_pos = np.mean([res_dic[i]['pos'] for i in range(len(res_dic))])\n",
    "    res_com = np.mean([res_dic[i]['compound'] for i in range(len(res_dic))])\n",
    "#     print(char+\":\", res_com)    \n",
    "    return res_com"
   ]
  },
  {
   "cell_type": "code",
   "execution_count": 16,
   "metadata": {},
   "outputs": [
    {
     "data": {
      "text/plain": [
       "{'frodo': 0.07666666666666667,\n",
       " 'sam': -0.08319797979797978,\n",
       " 'gandalf': -0.01646060606060605,\n",
       " 'aragorn': 0.0029137499999999927,\n",
       " 'gollum': -0.008842016806722693,\n",
       " 'pippin': 0.19337710843373493,\n",
       " 'merry': 0.09299183673469388,\n",
       " 'arwen': 0.05379375,\n",
       " 'orc': 0.05315}"
      ]
     },
     "execution_count": 16,
     "metadata": {},
     "output_type": "execute_result"
    }
   ],
   "source": [
    "sen = {}\n",
    "for i in charlist:\n",
    "    sen[i] = sentimentA(i)\n",
    "sen"
   ]
  },
  {
   "cell_type": "code",
   "execution_count": 17,
   "metadata": {},
   "outputs": [
    {
     "data": {
      "text/plain": [
       "<BarContainer object of 9 artists>"
      ]
     },
     "execution_count": 17,
     "metadata": {},
     "output_type": "execute_result"
    },
    {
     "data": {
      "image/png": "[encoded data removed]",
      "text/plain": [
       "<Figure size 432x288 with 1 Axes>"
      ]
     },
     "metadata": {
      "needs_background": "light"
     },
     "output_type": "display_data"
    }
   ],
   "source": [
    "# calculate the score sentence by sentence.\n",
    "\n",
    "sf = [*sen]\n",
    "vf = [v for v in sen.values()]\n",
    "plt.bar(sf, vf)"
   ]
  },
  {
   "cell_type": "code",
   "execution_count": 18,
   "metadata": {},
   "outputs": [],
   "source": [
    "def sentimentB(char):\n",
    "    v = nltk.sentiment.vader.SentimentIntensityAnalyzer()\n",
    "    d3_all = ' '.join(charlist[char])\n",
    "    return v.polarity_scores(d3_all)"
   ]
  },
  {
   "cell_type": "code",
   "execution_count": 19,
   "metadata": {},
   "outputs": [
    {
     "name": "stdout",
     "output_type": "stream",
     "text": [
      "frodo :  0.973\n",
      "sam :  -0.998\n",
      "gandalf :  -0.9956\n",
      "aragorn :  0.9933\n",
      "gollum :  -0.9972\n",
      "pippin :  0.9992\n",
      "merry :  0.9943\n",
      "arwen :  -0.2649\n",
      "orc :  -0.4795\n"
     ]
    }
   ],
   "source": [
    "senb = {}\n",
    "# new method, just put all text in one string, and score it, rather than calculate the mean of all sentence.\n",
    "for char in charlist:\n",
    "    senb[char] =  sentimentB(char)['compound']\n",
    "    print(char, \": \", sentimentB(char)['compound'])"
   ]
  },
  {
   "cell_type": "code",
   "execution_count": 20,
   "metadata": {},
   "outputs": [
    {
     "name": "stdout",
     "output_type": "stream",
     "text": [
      "[0.973, -0.998, -0.9956, 0.9933, -0.9972, 0.9992, 0.9943, -0.2649, -0.4795]\n",
      "[ 1.06020176 -1.14397514 -1.14129121  1.08290332 -1.1430805   1.08950132\n",
      "  1.08402163 -0.32414658 -0.56413459]\n"
     ]
    },
    {
     "data": {
      "text/plain": [
       "<BarContainer object of 9 artists>"
      ]
     },
     "execution_count": 20,
     "metadata": {},
     "output_type": "execute_result"
    },
    {
     "data": {
      "image/png": "[encoded data removed]",
      "text/plain": [
       "<Figure size 432x288 with 1 Axes>"
      ]
     },
     "metadata": {
      "needs_background": "light"
     },
     "output_type": "display_data"
    }
   ],
   "source": [
    "import scipy.stats as stats\n",
    "\n",
    "# calculate the score all in once.\n",
    "\n",
    "sfb = [*senb] # it should be fine if just use sf, rather than sfb.\n",
    "vfb = [v for v in senb.values()]\n",
    "print(vfb)\n",
    "normalized = stats.zscore(vfb)\n",
    "print(normalized)\n",
    "plt.bar(sfb, normalized)"
   ]
  },
  {
   "cell_type": "code",
   "execution_count": 21,
   "metadata": {},
   "outputs": [],
   "source": [
    "def sentimentC(char):\n",
    "    vader = nltk.sentiment.vader.SentimentIntensityAnalyzer()\n",
    "    d3 = flattena([ word.split() for word in charlist[char]])\n",
    "    res_dic = [vader.polarity_scores(word) for word in d3]\n",
    "    res_dic = [res_dic[i] for i in range(len(res_dic)) if res_dic[i][\"compound\"]!=0]\n",
    "    res_neg = np.mean([res_dic[i]['neg'] for i in range(len(res_dic))])\n",
    "    res_pos = np.mean([res_dic[i]['pos'] for i in range(len(res_dic))])\n",
    "    res_com = np.mean([res_dic[i]['compound'] for i in range(len(res_dic))])\n",
    "    return res_com"
   ]
  },
  {
   "cell_type": "code",
   "execution_count": 22,
   "metadata": {},
   "outputs": [
    {
     "data": {
      "text/plain": [
       "{'frodo': 0.04621627906976744,\n",
       " 'sam': -0.06779714285714286,\n",
       " 'gandalf': -0.0387578125,\n",
       " 'aragorn': -0.04919765624999999,\n",
       " 'gollum': -0.021164157706093187,\n",
       " 'pippin': 0.12285735294117647,\n",
       " 'merry': 0.0938435294117647,\n",
       " 'arwen': -0.028528571428571417,\n",
       " 'orc': 0.11035000000000003}"
      ]
     },
     "execution_count": 22,
     "metadata": {},
     "output_type": "execute_result"
    }
   ],
   "source": [
    "senc = {}\n",
    "for i in charlist:\n",
    "    senc[i] = sentimentC(i)\n",
    "senc"
   ]
  },
  {
   "cell_type": "code",
   "execution_count": 23,
   "metadata": {},
   "outputs": [
    {
     "data": {
      "text/plain": [
       "<BarContainer object of 9 artists>"
      ]
     },
     "execution_count": 23,
     "metadata": {},
     "output_type": "execute_result"
    },
    {
     "data": {
      "image/png": "[encoded data removed]",
      "text/plain": [
       "<Figure size 432x288 with 1 Axes>"
      ]
     },
     "metadata": {
      "needs_background": "light"
     },
     "output_type": "display_data"
    }
   ],
   "source": [
    "# calculate the score word by word\n",
    "sfc = [*senc]\n",
    "vfc = [v for v in senc.values()]\n",
    "plt.bar(sfc, vfc)"
   ]
  },
  {
   "cell_type": "code",
   "execution_count": 35,
   "metadata": {},
   "outputs": [
    {
     "name": "stderr",
     "output_type": "stream",
     "text": [
      "<ipython-input-35-4d7b4c1fcaea>:30: RuntimeWarning: invalid value encountered in sqrt\n",
      "  r = np.sqrt(area / np.pi)\n",
      "posx and posy should be finite values\n",
      "posx and posy should be finite values\n",
      "posx and posy should be finite values\n",
      "posx and posy should be finite values\n",
      "posx and posy should be finite values\n",
      "posx and posy should be finite values\n",
      "posx and posy should be finite values\n",
      "posx and posy should be finite values\n",
      "posx and posy should be finite values\n"
     ]
    },
    {
     "ename": "ValueError",
     "evalue": "need at least one array to concatenate",
     "output_type": "error",
     "traceback": [
      "\u001b[1;31m---------------------------------------------------------------------------\u001b[0m",
      "\u001b[1;31mValueError\u001b[0m                                Traceback (most recent call last)",
      "\u001b[1;32mD:\\ai\\Anaconda3\\lib\\site-packages\\IPython\\core\\formatters.py\u001b[0m in \u001b[0;36m__call__\u001b[1;34m(self, obj)\u001b[0m\n\u001b[0;32m    339\u001b[0m                 \u001b[1;32mpass\u001b[0m\u001b[1;33m\u001b[0m\u001b[1;33m\u001b[0m\u001b[0m\n\u001b[0;32m    340\u001b[0m             \u001b[1;32melse\u001b[0m\u001b[1;33m:\u001b[0m\u001b[1;33m\u001b[0m\u001b[1;33m\u001b[0m\u001b[0m\n\u001b[1;32m--> 341\u001b[1;33m                 \u001b[1;32mreturn\u001b[0m \u001b[0mprinter\u001b[0m\u001b[1;33m(\u001b[0m\u001b[0mobj\u001b[0m\u001b[1;33m)\u001b[0m\u001b[1;33m\u001b[0m\u001b[1;33m\u001b[0m\u001b[0m\n\u001b[0m\u001b[0;32m    342\u001b[0m             \u001b[1;31m# Finally look for special method names\u001b[0m\u001b[1;33m\u001b[0m\u001b[1;33m\u001b[0m\u001b[1;33m\u001b[0m\u001b[0m\n\u001b[0;32m    343\u001b[0m             \u001b[0mmethod\u001b[0m \u001b[1;33m=\u001b[0m \u001b[0mget_real_method\u001b[0m\u001b[1;33m(\u001b[0m\u001b[0mobj\u001b[0m\u001b[1;33m,\u001b[0m \u001b[0mself\u001b[0m\u001b[1;33m.\u001b[0m\u001b[0mprint_method\u001b[0m\u001b[1;33m)\u001b[0m\u001b[1;33m\u001b[0m\u001b[1;33m\u001b[0m\u001b[0m\n",
      "\u001b[1;32mD:\\ai\\Anaconda3\\lib\\site-packages\\IPython\\core\\pylabtools.py\u001b[0m in \u001b[0;36m<lambda>\u001b[1;34m(fig)\u001b[0m\n\u001b[0;32m    246\u001b[0m \u001b[1;33m\u001b[0m\u001b[0m\n\u001b[0;32m    247\u001b[0m     \u001b[1;32mif\u001b[0m \u001b[1;34m'png'\u001b[0m \u001b[1;32min\u001b[0m \u001b[0mformats\u001b[0m\u001b[1;33m:\u001b[0m\u001b[1;33m\u001b[0m\u001b[1;33m\u001b[0m\u001b[0m\n\u001b[1;32m--> 248\u001b[1;33m         \u001b[0mpng_formatter\u001b[0m\u001b[1;33m.\u001b[0m\u001b[0mfor_type\u001b[0m\u001b[1;33m(\u001b[0m\u001b[0mFigure\u001b[0m\u001b[1;33m,\u001b[0m \u001b[1;32mlambda\u001b[0m \u001b[0mfig\u001b[0m\u001b[1;33m:\u001b[0m \u001b[0mprint_figure\u001b[0m\u001b[1;33m(\u001b[0m\u001b[0mfig\u001b[0m\u001b[1;33m,\u001b[0m \u001b[1;34m'png'\u001b[0m\u001b[1;33m,\u001b[0m \u001b[1;33m**\u001b[0m\u001b[0mkwargs\u001b[0m\u001b[1;33m)\u001b[0m\u001b[1;33m)\u001b[0m\u001b[1;33m\u001b[0m\u001b[1;33m\u001b[0m\u001b[0m\n\u001b[0m\u001b[0;32m    249\u001b[0m     \u001b[1;32mif\u001b[0m \u001b[1;34m'retina'\u001b[0m \u001b[1;32min\u001b[0m \u001b[0mformats\u001b[0m \u001b[1;32mor\u001b[0m \u001b[1;34m'png2x'\u001b[0m \u001b[1;32min\u001b[0m \u001b[0mformats\u001b[0m\u001b[1;33m:\u001b[0m\u001b[1;33m\u001b[0m\u001b[1;33m\u001b[0m\u001b[0m\n\u001b[0;32m    250\u001b[0m         \u001b[0mpng_formatter\u001b[0m\u001b[1;33m.\u001b[0m\u001b[0mfor_type\u001b[0m\u001b[1;33m(\u001b[0m\u001b[0mFigure\u001b[0m\u001b[1;33m,\u001b[0m \u001b[1;32mlambda\u001b[0m \u001b[0mfig\u001b[0m\u001b[1;33m:\u001b[0m \u001b[0mretina_figure\u001b[0m\u001b[1;33m(\u001b[0m\u001b[0mfig\u001b[0m\u001b[1;33m,\u001b[0m \u001b[1;33m**\u001b[0m\u001b[0mkwargs\u001b[0m\u001b[1;33m)\u001b[0m\u001b[1;33m)\u001b[0m\u001b[1;33m\u001b[0m\u001b[1;33m\u001b[0m\u001b[0m\n",
      "\u001b[1;32mD:\\ai\\Anaconda3\\lib\\site-packages\\IPython\\core\\pylabtools.py\u001b[0m in \u001b[0;36mprint_figure\u001b[1;34m(fig, fmt, bbox_inches, **kwargs)\u001b[0m\n\u001b[0;32m    130\u001b[0m         \u001b[0mFigureCanvasBase\u001b[0m\u001b[1;33m(\u001b[0m\u001b[0mfig\u001b[0m\u001b[1;33m)\u001b[0m\u001b[1;33m\u001b[0m\u001b[1;33m\u001b[0m\u001b[0m\n\u001b[0;32m    131\u001b[0m \u001b[1;33m\u001b[0m\u001b[0m\n\u001b[1;32m--> 132\u001b[1;33m     \u001b[0mfig\u001b[0m\u001b[1;33m.\u001b[0m\u001b[0mcanvas\u001b[0m\u001b[1;33m.\u001b[0m\u001b[0mprint_figure\u001b[0m\u001b[1;33m(\u001b[0m\u001b[0mbytes_io\u001b[0m\u001b[1;33m,\u001b[0m \u001b[1;33m**\u001b[0m\u001b[0mkw\u001b[0m\u001b[1;33m)\u001b[0m\u001b[1;33m\u001b[0m\u001b[1;33m\u001b[0m\u001b[0m\n\u001b[0m\u001b[0;32m    133\u001b[0m     \u001b[0mdata\u001b[0m \u001b[1;33m=\u001b[0m \u001b[0mbytes_io\u001b[0m\u001b[1;33m.\u001b[0m\u001b[0mgetvalue\u001b[0m\u001b[1;33m(\u001b[0m\u001b[1;33m)\u001b[0m\u001b[1;33m\u001b[0m\u001b[1;33m\u001b[0m\u001b[0m\n\u001b[0;32m    134\u001b[0m     \u001b[1;32mif\u001b[0m \u001b[0mfmt\u001b[0m \u001b[1;33m==\u001b[0m \u001b[1;34m'svg'\u001b[0m\u001b[1;33m:\u001b[0m\u001b[1;33m\u001b[0m\u001b[1;33m\u001b[0m\u001b[0m\n",
      "\u001b[1;32mD:\\ai\\Anaconda3\\lib\\site-packages\\matplotlib\\backend_bases.py\u001b[0m in \u001b[0;36mprint_figure\u001b[1;34m(self, filename, dpi, facecolor, edgecolor, orientation, format, bbox_inches, pad_inches, bbox_extra_artists, backend, **kwargs)\u001b[0m\n\u001b[0;32m   2193\u001b[0m                         \u001b[0mself\u001b[0m\u001b[1;33m.\u001b[0m\u001b[0mfigure\u001b[0m\u001b[1;33m.\u001b[0m\u001b[0mdraw\u001b[0m\u001b[1;33m(\u001b[0m\u001b[0mrenderer\u001b[0m\u001b[1;33m)\u001b[0m\u001b[1;33m\u001b[0m\u001b[1;33m\u001b[0m\u001b[0m\n\u001b[0;32m   2194\u001b[0m \u001b[1;33m\u001b[0m\u001b[0m\n\u001b[1;32m-> 2195\u001b[1;33m                     bbox_inches = self.figure.get_tightbbox(\n\u001b[0m\u001b[0;32m   2196\u001b[0m                         renderer, bbox_extra_artists=bbox_extra_artists)\n\u001b[0;32m   2197\u001b[0m                     \u001b[1;32mif\u001b[0m \u001b[0mpad_inches\u001b[0m \u001b[1;32mis\u001b[0m \u001b[1;32mNone\u001b[0m\u001b[1;33m:\u001b[0m\u001b[1;33m\u001b[0m\u001b[1;33m\u001b[0m\u001b[0m\n",
      "\u001b[1;32mD:\\ai\\Anaconda3\\lib\\site-packages\\matplotlib\\figure.py\u001b[0m in \u001b[0;36mget_tightbbox\u001b[1;34m(self, renderer, bbox_extra_artists)\u001b[0m\n\u001b[0;32m   2504\u001b[0m \u001b[1;33m\u001b[0m\u001b[0m\n\u001b[0;32m   2505\u001b[0m         \u001b[1;32mfor\u001b[0m \u001b[0ma\u001b[0m \u001b[1;32min\u001b[0m \u001b[0martists\u001b[0m\u001b[1;33m:\u001b[0m\u001b[1;33m\u001b[0m\u001b[1;33m\u001b[0m\u001b[0m\n\u001b[1;32m-> 2506\u001b[1;33m             \u001b[0mbbox\u001b[0m \u001b[1;33m=\u001b[0m \u001b[0ma\u001b[0m\u001b[1;33m.\u001b[0m\u001b[0mget_tightbbox\u001b[0m\u001b[1;33m(\u001b[0m\u001b[0mrenderer\u001b[0m\u001b[1;33m)\u001b[0m\u001b[1;33m\u001b[0m\u001b[1;33m\u001b[0m\u001b[0m\n\u001b[0m\u001b[0;32m   2507\u001b[0m             \u001b[1;32mif\u001b[0m \u001b[0mbbox\u001b[0m \u001b[1;32mis\u001b[0m \u001b[1;32mnot\u001b[0m \u001b[1;32mNone\u001b[0m \u001b[1;32mand\u001b[0m \u001b[1;33m(\u001b[0m\u001b[0mbbox\u001b[0m\u001b[1;33m.\u001b[0m\u001b[0mwidth\u001b[0m \u001b[1;33m!=\u001b[0m \u001b[1;36m0\u001b[0m \u001b[1;32mor\u001b[0m \u001b[0mbbox\u001b[0m\u001b[1;33m.\u001b[0m\u001b[0mheight\u001b[0m \u001b[1;33m!=\u001b[0m \u001b[1;36m0\u001b[0m\u001b[1;33m)\u001b[0m\u001b[1;33m:\u001b[0m\u001b[1;33m\u001b[0m\u001b[1;33m\u001b[0m\u001b[0m\n\u001b[0;32m   2508\u001b[0m                 \u001b[0mbb\u001b[0m\u001b[1;33m.\u001b[0m\u001b[0mappend\u001b[0m\u001b[1;33m(\u001b[0m\u001b[0mbbox\u001b[0m\u001b[1;33m)\u001b[0m\u001b[1;33m\u001b[0m\u001b[1;33m\u001b[0m\u001b[0m\n",
      "\u001b[1;32mD:\\ai\\Anaconda3\\lib\\site-packages\\matplotlib\\artist.py\u001b[0m in \u001b[0;36mget_tightbbox\u001b[1;34m(self, renderer)\u001b[0m\n\u001b[0;32m    276\u001b[0m             \u001b[0mThe\u001b[0m \u001b[0menclosing\u001b[0m \u001b[0mbounding\u001b[0m \u001b[0mbox\u001b[0m \u001b[1;33m(\u001b[0m\u001b[1;32min\u001b[0m \u001b[0mfigure\u001b[0m \u001b[0mpixel\u001b[0m \u001b[0mcoordinates\u001b[0m\u001b[1;33m)\u001b[0m\u001b[1;33m.\u001b[0m\u001b[1;33m\u001b[0m\u001b[1;33m\u001b[0m\u001b[0m\n\u001b[0;32m    277\u001b[0m         \"\"\"\n\u001b[1;32m--> 278\u001b[1;33m         \u001b[0mbbox\u001b[0m \u001b[1;33m=\u001b[0m \u001b[0mself\u001b[0m\u001b[1;33m.\u001b[0m\u001b[0mget_window_extent\u001b[0m\u001b[1;33m(\u001b[0m\u001b[0mrenderer\u001b[0m\u001b[1;33m)\u001b[0m\u001b[1;33m\u001b[0m\u001b[1;33m\u001b[0m\u001b[0m\n\u001b[0m\u001b[0;32m    279\u001b[0m         \u001b[1;32mif\u001b[0m \u001b[0mself\u001b[0m\u001b[1;33m.\u001b[0m\u001b[0mget_clip_on\u001b[0m\u001b[1;33m(\u001b[0m\u001b[1;33m)\u001b[0m\u001b[1;33m:\u001b[0m\u001b[1;33m\u001b[0m\u001b[1;33m\u001b[0m\u001b[0m\n\u001b[0;32m    280\u001b[0m             \u001b[0mclip_box\u001b[0m \u001b[1;33m=\u001b[0m \u001b[0mself\u001b[0m\u001b[1;33m.\u001b[0m\u001b[0mget_clip_box\u001b[0m\u001b[1;33m(\u001b[0m\u001b[1;33m)\u001b[0m\u001b[1;33m\u001b[0m\u001b[1;33m\u001b[0m\u001b[0m\n",
      "\u001b[1;32mD:\\ai\\Anaconda3\\lib\\site-packages\\matplotlib\\patches.py\u001b[0m in \u001b[0;36mget_window_extent\u001b[1;34m(self, renderer)\u001b[0m\n\u001b[0;32m    596\u001b[0m \u001b[1;33m\u001b[0m\u001b[0m\n\u001b[0;32m    597\u001b[0m     \u001b[1;32mdef\u001b[0m \u001b[0mget_window_extent\u001b[0m\u001b[1;33m(\u001b[0m\u001b[0mself\u001b[0m\u001b[1;33m,\u001b[0m \u001b[0mrenderer\u001b[0m\u001b[1;33m=\u001b[0m\u001b[1;32mNone\u001b[0m\u001b[1;33m)\u001b[0m\u001b[1;33m:\u001b[0m\u001b[1;33m\u001b[0m\u001b[1;33m\u001b[0m\u001b[0m\n\u001b[1;32m--> 598\u001b[1;33m         \u001b[1;32mreturn\u001b[0m \u001b[0mself\u001b[0m\u001b[1;33m.\u001b[0m\u001b[0mget_path\u001b[0m\u001b[1;33m(\u001b[0m\u001b[1;33m)\u001b[0m\u001b[1;33m.\u001b[0m\u001b[0mget_extents\u001b[0m\u001b[1;33m(\u001b[0m\u001b[0mself\u001b[0m\u001b[1;33m.\u001b[0m\u001b[0mget_transform\u001b[0m\u001b[1;33m(\u001b[0m\u001b[1;33m)\u001b[0m\u001b[1;33m)\u001b[0m\u001b[1;33m\u001b[0m\u001b[1;33m\u001b[0m\u001b[0m\n\u001b[0m\u001b[0;32m    599\u001b[0m \u001b[1;33m\u001b[0m\u001b[0m\n\u001b[0;32m    600\u001b[0m     \u001b[1;32mdef\u001b[0m \u001b[0m_convert_xy_units\u001b[0m\u001b[1;33m(\u001b[0m\u001b[0mself\u001b[0m\u001b[1;33m,\u001b[0m \u001b[0mxy\u001b[0m\u001b[1;33m)\u001b[0m\u001b[1;33m:\u001b[0m\u001b[1;33m\u001b[0m\u001b[1;33m\u001b[0m\u001b[0m\n",
      "\u001b[1;32mD:\\ai\\Anaconda3\\lib\\site-packages\\matplotlib\\path.py\u001b[0m in \u001b[0;36mget_extents\u001b[1;34m(self, transform, **kwargs)\u001b[0m\n\u001b[0;32m    600\u001b[0m                 \u001b[1;31m# as can the ends of the curve\u001b[0m\u001b[1;33m\u001b[0m\u001b[1;33m\u001b[0m\u001b[1;33m\u001b[0m\u001b[0m\n\u001b[0;32m    601\u001b[0m                 \u001b[0mxys\u001b[0m\u001b[1;33m.\u001b[0m\u001b[0mappend\u001b[0m\u001b[1;33m(\u001b[0m\u001b[0mcurve\u001b[0m\u001b[1;33m(\u001b[0m\u001b[1;33m[\u001b[0m\u001b[1;36m0\u001b[0m\u001b[1;33m,\u001b[0m \u001b[1;33m*\u001b[0m\u001b[0mdzeros\u001b[0m\u001b[1;33m,\u001b[0m \u001b[1;36m1\u001b[0m\u001b[1;33m]\u001b[0m\u001b[1;33m)\u001b[0m\u001b[1;33m)\u001b[0m\u001b[1;33m\u001b[0m\u001b[1;33m\u001b[0m\u001b[0m\n\u001b[1;32m--> 602\u001b[1;33m             \u001b[0mxys\u001b[0m \u001b[1;33m=\u001b[0m \u001b[0mnp\u001b[0m\u001b[1;33m.\u001b[0m\u001b[0mconcatenate\u001b[0m\u001b[1;33m(\u001b[0m\u001b[0mxys\u001b[0m\u001b[1;33m)\u001b[0m\u001b[1;33m\u001b[0m\u001b[1;33m\u001b[0m\u001b[0m\n\u001b[0m\u001b[0;32m    603\u001b[0m         \u001b[1;32mif\u001b[0m \u001b[0mlen\u001b[0m\u001b[1;33m(\u001b[0m\u001b[0mxys\u001b[0m\u001b[1;33m)\u001b[0m\u001b[1;33m:\u001b[0m\u001b[1;33m\u001b[0m\u001b[1;33m\u001b[0m\u001b[0m\n\u001b[0;32m    604\u001b[0m             \u001b[1;32mreturn\u001b[0m \u001b[0mBbox\u001b[0m\u001b[1;33m(\u001b[0m\u001b[1;33m[\u001b[0m\u001b[0mxys\u001b[0m\u001b[1;33m.\u001b[0m\u001b[0mmin\u001b[0m\u001b[1;33m(\u001b[0m\u001b[0maxis\u001b[0m\u001b[1;33m=\u001b[0m\u001b[1;36m0\u001b[0m\u001b[1;33m)\u001b[0m\u001b[1;33m,\u001b[0m \u001b[0mxys\u001b[0m\u001b[1;33m.\u001b[0m\u001b[0mmax\u001b[0m\u001b[1;33m(\u001b[0m\u001b[0maxis\u001b[0m\u001b[1;33m=\u001b[0m\u001b[1;36m0\u001b[0m\u001b[1;33m)\u001b[0m\u001b[1;33m]\u001b[0m\u001b[1;33m)\u001b[0m\u001b[1;33m\u001b[0m\u001b[1;33m\u001b[0m\u001b[0m\n",
      "\u001b[1;32m<__array_function__ internals>\u001b[0m in \u001b[0;36mconcatenate\u001b[1;34m(*args, **kwargs)\u001b[0m\n",
      "\u001b[1;31mValueError\u001b[0m: need at least one array to concatenate"
     ]
    },
    {
     "data": {
      "text/plain": [
       "<Figure size 432x288 with 1 Axes>"
      ]
     },
     "metadata": {
      "needs_background": "light"
     },
     "output_type": "display_data"
    }
   ],
   "source": [
    "import numpy as np\n",
    "import matplotlib.pyplot as plt\n",
    "\n",
    "# https://matplotlib.org/stable/gallery/misc/packed_bubbles.html\n",
    "\n",
    "browser_market_share = {\n",
    "    'browsers': ['frodo', 'sam', 'gandalf', 'aragorn', 'gollum', 'pippin', 'merry', 'arwen', 'orc'],\n",
    "    'market_share': [-0.06779714285714286,-0.06779714285714286,-0.0387578125,-0.04919765624999999, -0.021164157706093187, 0.12285735294117647, 0.0938435294117647, -0.028528571428571417, 0.11035000000000003],\n",
    "    'color': ['#FFB6C1', '#800080', '#00008B', '#00CED1', '#7FFFAA', '#556B2F', '#FF7F50', '#FFD700', '#FFFFF0']\n",
    "}\n",
    "\n",
    "\n",
    "class BubbleChart:\n",
    "    def __init__(self, area, bubble_spacing=0):\n",
    "        area = np.asarray(area)\n",
    "        r = np.sqrt(area / np.pi)\n",
    "\n",
    "        self.bubble_spacing = bubble_spacing\n",
    "        self.bubbles = np.ones((len(area), 4))\n",
    "        self.bubbles[:, 2] = r\n",
    "        self.bubbles[:, 3] = area\n",
    "        self.maxstep = 2 * self.bubbles[:, 2].max() + self.bubble_spacing\n",
    "        self.step_dist = self.maxstep / 2\n",
    "\n",
    "        # calculate initial grid layout for bubbles\n",
    "        length = np.ceil(np.sqrt(len(self.bubbles)))\n",
    "        grid = np.arange(length) * self.maxstep\n",
    "        gx, gy = np.meshgrid(grid, grid)\n",
    "        self.bubbles[:, 0] = gx.flatten()[:len(self.bubbles)]\n",
    "        self.bubbles[:, 1] = gy.flatten()[:len(self.bubbles)]\n",
    "\n",
    "        self.com = self.center_of_mass()\n",
    "\n",
    "    def center_of_mass(self):\n",
    "        return np.average(\n",
    "            self.bubbles[:, :2], axis=0, weights=self.bubbles[:, 3]\n",
    "        )\n",
    "\n",
    "    def center_distance(self, bubble, bubbles):\n",
    "        return np.hypot(bubble[0] - bubbles[:, 0],\n",
    "                        bubble[1] - bubbles[:, 1])\n",
    "\n",
    "    def outline_distance(self, bubble, bubbles):\n",
    "        center_distance = self.center_distance(bubble, bubbles)\n",
    "        return center_distance - bubble[2] - \\\n",
    "            bubbles[:, 2] - self.bubble_spacing\n",
    "\n",
    "    def check_collisions(self, bubble, bubbles):\n",
    "        distance = self.outline_distance(bubble, bubbles)\n",
    "        return len(distance[distance < 0])\n",
    "\n",
    "    def collides_with(self, bubble, bubbles):\n",
    "        distance = self.outline_distance(bubble, bubbles)\n",
    "        idx_min = np.argmin(distance)\n",
    "        return idx_min if type(idx_min) == np.ndarray else [idx_min]\n",
    "\n",
    "    def collapse(self, n_iterations=50):\n",
    "        for _i in range(n_iterations):\n",
    "            moves = 0\n",
    "            for i in range(len(self.bubbles)):\n",
    "                rest_bub = np.delete(self.bubbles, i, 0)\n",
    "                # try to move directly towards the center of mass\n",
    "                # direction vector from bubble to the center of mass\n",
    "                dir_vec = self.com - self.bubbles[i, :2]\n",
    "\n",
    "                # shorten direction vector to have length of 1\n",
    "                dir_vec = dir_vec / np.sqrt(dir_vec.dot(dir_vec))\n",
    "\n",
    "                # calculate new bubble position\n",
    "                new_point = self.bubbles[i, :2] + dir_vec * self.step_dist\n",
    "                new_bubble = np.append(new_point, self.bubbles[i, 2:4])\n",
    "\n",
    "                # check whether new bubble collides with other bubbles\n",
    "                if not self.check_collisions(new_bubble, rest_bub):\n",
    "                    self.bubbles[i, :] = new_bubble\n",
    "                    self.com = self.center_of_mass()\n",
    "                    moves += 1\n",
    "                else:\n",
    "                    # try to move around a bubble that you collide with\n",
    "                    # find colliding bubble\n",
    "                    for colliding in self.collides_with(new_bubble, rest_bub):\n",
    "                        # calculate direction vector\n",
    "                        dir_vec = rest_bub[colliding, :2] - self.bubbles[i, :2]\n",
    "                        dir_vec = dir_vec / np.sqrt(dir_vec.dot(dir_vec))\n",
    "                        # calculate orthogonal vector\n",
    "                        orth = np.array([dir_vec[1], -dir_vec[0]])\n",
    "                        # test which direction to go\n",
    "                        new_point1 = (self.bubbles[i, :2] + orth *\n",
    "                                      self.step_dist)\n",
    "                        new_point2 = (self.bubbles[i, :2] - orth *\n",
    "                                      self.step_dist)\n",
    "                        dist1 = self.center_distance(\n",
    "                            self.com, np.array([new_point1]))\n",
    "                        dist2 = self.center_distance(\n",
    "                            self.com, np.array([new_point2]))\n",
    "                        new_point = new_point1 if dist1 < dist2 else new_point2\n",
    "                        new_bubble = np.append(new_point, self.bubbles[i, 2:4])\n",
    "                        if not self.check_collisions(new_bubble, rest_bub):\n",
    "                            self.bubbles[i, :] = new_bubble\n",
    "                            self.com = self.center_of_mass()\n",
    "\n",
    "            if moves / len(self.bubbles) < 0.1:\n",
    "                self.step_dist = self.step_dist / 2\n",
    "\n",
    "    def plot(self, ax, labels, colors):\n",
    "        for i in range(len(self.bubbles)):\n",
    "            circ = plt.Circle(\n",
    "                self.bubbles[i, :2], self.bubbles[i, 2], color=colors[i])\n",
    "            ax.add_patch(circ)\n",
    "            ax.text(*self.bubbles[i, :2], labels[i],\n",
    "                    horizontalalignment='center', verticalalignment='center')\n",
    "\n",
    "\n",
    "bubble_chart = BubbleChart(area=browser_market_share['market_share'],\n",
    "                           bubble_spacing=0.1)\n",
    "\n",
    "bubble_chart.collapse()\n",
    "\n",
    "fig, ax = plt.subplots(subplot_kw=dict(aspect=\"equal\"))\n",
    "bubble_chart.plot(\n",
    "    ax, browser_market_share['browsers'], browser_market_share['color'])\n",
    "ax.axis(\"off\")\n",
    "ax.relim()\n",
    "ax.autoscale_view()\n",
    "ax.set_title('Browser market share')\n",
    "\n",
    "plt.show()"
   ]
  },
  {
   "cell_type": "markdown",
   "metadata": {},
   "source": [
    "## Their age.\n",
    "\n",
    "Frodo Baggins - 50\n",
    "Samwise Gamgee - 38\n",
    "Gandalf - Approx. 2000 Years\n",
    "Aragorn - 87\n",
    "Legolas - Very Old\n",
    "Gimli - 139\n",
    "Meridoc Brandybuck - 36\n",
    "Peregrin Took - 28\n",
    "Boromir - 40\n",
    "\n",
    "reference \n",
    "\n",
    "https://screenrant.com/lord-rings-fellowship-characters-ages-how-old/\n",
    "\n",
    "https://www.statista.com/statistics/384102/age-of-selected-characters-in-lord-of-the-rings/\n",
    "\n",
    "https://lotr.fandom.com/wiki/Arwen"
   ]
  },
  {
   "cell_type": "code",
   "execution_count": 24,
   "metadata": {},
   "outputs": [],
   "source": [
    "ages = {\n",
    "    'frodo': 50,\n",
    "    'sam':38,\n",
    "    'gandalf':2000,\n",
    "    'aragorn':87,\n",
    "    'gollum':589,\n",
    "    'pippin':29,\n",
    "    'merry' :37,\n",
    "    'arwen':2901,\n",
    "    'orc':50,\n",
    "}"
   ]
  },
  {
   "cell_type": "code",
   "execution_count": 25,
   "metadata": {},
   "outputs": [
    {
     "data": {
      "text/plain": [
       "<BarContainer object of 9 artists>"
      ]
     },
     "execution_count": 25,
     "metadata": {},
     "output_type": "execute_result"
    },
    {
     "data": {
      "image/png": "[encoded data removed]",
      "text/plain": [
       "<Figure size 432x288 with 1 Axes>"
      ]
     },
     "metadata": {
      "needs_background": "light"
     },
     "output_type": "display_data"
    }
   ],
   "source": [
    "# calculate the score word by word\n",
    "# sfc = [*senc]\n",
    "# vfc = [v for v in senc.values()]\n",
    "# plt.bar(sfc, vfc)\n",
    "agek = [*ages]\n",
    "agev = [v for v in ages.values()]\n",
    "plt.bar(agek, agev)"
   ]
  },
  {
   "cell_type": "code",
   "execution_count": 30,
   "metadata": {},
   "outputs": [
    {
     "data": {
      "image/png": "[encoded data removed]",
      "text/plain": [
       "<Figure size 432x288 with 2 Axes>"
      ]
     },
     "metadata": {
      "needs_background": "light"
     },
     "output_type": "display_data"
    }
   ],
   "source": [
    "# plt.plot(agek,agev,marker='o', mec='r', mfc='w',label=\"age\")\n",
    "# plt.plot(sfc,vfc,marker='*', ms=10,label=\"sentiment\")\n",
    "\n",
    "fig,ax = plt.subplots()\n",
    "ax.plot(agek,agev,color=\"red\", marker=\"o\")\n",
    "ax.set_xlabel(\"Roles\")\n",
    "ax.set_ylabel(\"Ages\")\n",
    "\n",
    "ax2=ax.twinx()\n",
    "ax2.plot(sfc, vfc,color=\"blue\",marker=\"o\")\n",
    "ax2.set_ylabel(\"sentiment rate\")\n",
    "plt.show()"
   ]
  },
  {
   "cell_type": "code",
   "execution_count": 32,
   "metadata": {},
   "outputs": [
    {
     "data": {
      "image/png": "[encoded data removed]",
      "text/plain": [
       "<Figure size 432x288 with 2 Axes>"
      ]
     },
     "metadata": {
      "needs_background": "light"
     },
     "output_type": "display_data"
    }
   ],
   "source": [
    "# normalized\n",
    "n_ages = {\n",
    "    'frodo': 50,\n",
    "    'sam':38,\n",
    "    'gandalf':300,\n",
    "    'aragorn':87,\n",
    "    'gollum':200,\n",
    "    'pippin':29,\n",
    "    'merry' :37,\n",
    "    'arwen':310,\n",
    "    'orc':50,\n",
    "}\n",
    "\n",
    "agekb = [*n_ages]\n",
    "agevb = [v for v in n_ages.values()]\n",
    "\n",
    "fig,ax = plt.subplots()\n",
    "ax.plot(agekb,agevb,color=\"red\", marker=\"o\")\n",
    "ax.set_xlabel(\"Roles\")\n",
    "ax.set_ylabel(\"Ages\")\n",
    "\n",
    "ax2=ax.twinx()\n",
    "ax2.plot(sfb, normalized,color=\"blue\",marker=\"o\")\n",
    "ax2.set_ylabel(\"sentiment rate\")\n",
    "plt.show()"
   ]
  }
 ],
 "metadata": {
  "kernelspec": {
   "display_name": "Python 3",
   "language": "python",
   "name": "python3"
  },
  "language_info": {
   "codemirror_mode": {
    "name": "ipython",
    "version": 3
   },
   "file_extension": ".py",
   "mimetype": "text/x-python",
   "name": "python",
   "nbconvert_exporter": "python",
   "pygments_lexer": "ipython3",
   "version": "3.8.8"
  }
 },
 "nbformat": 4,
 "nbformat_minor": 4
}
